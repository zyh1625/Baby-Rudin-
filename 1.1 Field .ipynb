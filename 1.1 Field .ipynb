{
 "cells": [
  {
   "cell_type": "markdown",
   "metadata": {},
   "source": [
    "# 1.1 Field "
   ]
  },
  {
   "cell_type": "markdown",
   "metadata": {},
   "source": [
    "这册笔记参考的是 Dr. Walter Rudin 的《Principles of Mathematical Analysis》第三版，本文是《Baby Rudin 白话笔记》的第一篇。"
   ]
  },
  {
   "cell_type": "code",
   "execution_count": null,
   "metadata": {},
   "outputs": [],
   "source": []
  },
  {
   "cell_type": "code",
   "execution_count": null,
   "metadata": {},
   "outputs": [],
   "source": []
  },
  {
   "cell_type": "markdown",
   "metadata": {},
   "source": [
    "## Field 的由来和定义"
   ]
  },
  {
   "cell_type": "markdown",
   "metadata": {},
   "source": [
    "### Definition of Field"
   ]
  },
  {
   "cell_type": "markdown",
   "metadata": {},
   "source": [
    "在引入定义之前，我们先介绍两个概念："
   ]
  },
  {
   "cell_type": "markdown",
   "metadata": {},
   "source": [
    "1. Cartesian product:\n",
    "\n",
    "The Cartesian products of two sets, $A$ and $B$, denoted by $A \\times B$, is $\\{ (a,b): a \\in A, b \\in B \\}$. "
   ]
  }
 ],
 "metadata": {
  "kernelspec": {
   "display_name": "Python 3",
   "language": "python",
   "name": "python3"
  },
  "language_info": {
   "codemirror_mode": {
    "name": "ipython",
    "version": 3
   },
   "file_extension": ".py",
   "mimetype": "text/x-python",
   "name": "python",
   "nbconvert_exporter": "python",
   "pygments_lexer": "ipython3",
   "version": "3.7.4"
  }
 },
 "nbformat": 4,
 "nbformat_minor": 2
}
